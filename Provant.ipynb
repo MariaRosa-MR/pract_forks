{
 "cells": [
  {
   "cell_type": "code",
   "execution_count": 1,
   "id": "24ebe1f4-7da7-4f72-bec2-13fa5427d86f",
   "metadata": {},
   "outputs": [
    {
     "name": "stdout",
     "output_type": "stream",
     "text": [
      "proves\n"
     ]
    }
   ],
   "source": [
    "print(\"proves\")"
   ]
  }
 ],
 "metadata": {
  "kernelspec": {
   "display_name": "Python 3 (ipykernel)",
   "language": "python",
   "name": "python3"
  },
  "language_info": {
   "codemirror_mode": {
    "name": "ipython",
    "version": 3
   },
   "file_extension": ".py",
   "mimetype": "text/x-python",
   "name": "python",
   "nbconvert_exporter": "python",
   "pygments_lexer": "ipython3",
   "version": "3.12.0"
  }
 },
 "nbformat": 4,
 "nbformat_minor": 5
}
